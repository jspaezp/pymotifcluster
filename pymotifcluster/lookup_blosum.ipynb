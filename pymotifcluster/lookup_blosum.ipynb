{
 "cells": [
  {
   "cell_type": "code",
   "execution_count": 1,
   "metadata": {
    "collapsed": true
   },
   "outputs": [],
   "source": [
    "from pymotifcluster.clusterwindow import *\n",
    "import time\n",
    "\n",
    "testing_windows_base = [\n",
    "\"DSSASPEVVSDLPPSSPKGSPDRHDPSTSSP\",\n",
    "\"VREQAVWALGNVAGDSPKCRDLVLSYGAMTP\",\n",
    "\"LTSPIPRASVITNQNSPLSSRATRRTSISSG\",\n",
    "\"VTPCKGSGDRSLGLTSPIPRASVITNQNSPL\",\n",
    "\"AIKASSLSKEGLLFGSPKLSGGSSLYGKLQQ\",\n",
    "\"GSFRKNLDTKDAIISSPKLMESGSGKLPVFE\",\n",
    "\"SSIASVPITDTTHVKSETGSPRHSSSAKMDE\",\n",
    "\"SVPITDTTHVKSETGSPRHSSSAKMDETNGR\",\n",
    "\"GSLSKSPSFDWGEDVSPNIPLEKLLVYRLNV\",\n",
    "\"DMSSIDGKETSRSGGSPNRAELRKRLSAAEE\",\n",
    "\"FKSVFTEDLDPPETESESDSPKHSEEHEHPE\",\n",
    "\"SVFTEDLDPPETESESDSPKHSEEHEHPEQE\",\n",
    "\"FTEDLDPPETESESDSPKHSEEHEHPEQEHP\",\n",
    "\"TGRLSPQTFTSSPSLSPSSSSGGSSFMARYA\",\n",
    "\"SPQTFTSSPSLSPSSSSGGSSFMARYAMESS\",\n",
    "\"PQTFTSSPSLSPSSSSGGSSFMARYAMESSK\",\n",
    "\"NLPGNPDPEAEVIALSPKTLMATNRFLCEIC\",\n",
    "\"SPRFSRQRTSPPSLHSPLRSLKEPKRQLIPQ\",\n",
    "\"ESAASESGEKADEGRSQVDGSTEQSPKLESA\",\n",
    "\"ESGEKADEGRSQVDGSTEQSPKLESASSTEP\",\n",
    "]\n",
    "\n",
    "\n",
    "testing_windows = []\n",
    "testing_windows.extend(testing_windows_base)\n",
    "#testing_windows.extend([ invert_sequence(x) for x in testing_windows_base ])\n",
    "\n",
    "testing_windows.extend([ shuffle_sequence(x) for x in testing_windows_base*10 ])\n",
    "\n",
    "mycolours = ['g']*len(testing_windows_base)\n",
    "mycolours.extend(['r']*(len(testing_windows) - len(testing_windows_base)))\n",
    "\n",
    "my_nmer_dict = getNmers(testing_windows, 3, fill_missing = True)"
   ]
  },
  {
   "cell_type": "code",
   "execution_count": 3,
   "metadata": {},
   "outputs": [
    {
     "name": "stdout",
     "output_type": "stream",
     "text": [
      "220\n"
     ]
    }
   ],
   "source": [
    "foo = [list(i.keys()) for i in my_nmer_dict.values() ]\n",
    "print(len(foo))"
   ]
  },
  {
   "cell_type": "code",
   "execution_count": 5,
   "metadata": {
    "collapsed": false
   },
   "outputs": [
    {
     "name": "stdout",
     "output_type": "stream",
     "text": [
      "1760000\n8000\n"
     ]
    }
   ],
   "source": [
    "all_keys = list(flatten(foo))\n",
    "print(len(all_keys))\n",
    "unique_keys = list(set(all_keys))\n",
    "print(len(unique_keys))\n",
    "#print(all_keys)\n"
   ]
  },
  {
   "cell_type": "code",
   "execution_count": 6,
   "metadata": {
    "collapsed": true
   },
   "outputs": [
    {
     "name": "stdout",
     "output_type": "stream",
     "text": [
      "36\n"
     ]
    }
   ],
   "source": [
    "my_distance_database = BlosumDictGenerator(unique_keys[1:10])\n",
    "\n",
    "for x in unique_keys[1:10]:\n",
    "    for y in  unique_keys[1:10]:\n",
    "        my_distance_database(x,y)\n",
    "        \n",
    "print(my_distance_database.saved_calculations)\n",
    "print(my_distance_database.calculations)\n",
    "\n"
   ]
  },
  {
   "cell_type": "code",
   "execution_count": 7,
   "metadata": {},
   "outputs": [
    {
     "data": {
      "text/plain": [
       "{'VKW': {'VKW': 20.0, 'PPK': 5.0, 'HIT': 3.0, 'FFP': 1.0, 'FAI': 3.0, 'ERP': 2.0, 'GGI': 3.0, 'FKH': 5.0, 'DGC': 0.0}, 'PPK': {'VKW': 5.0, 'PPK': 19.0, 'HIT': 0.0, 'FFP': 7.0, 'FAI': 0.0, 'ERP': 7.0, 'GGI': 0.0, 'FKH': 5.0, 'DGC': 0.0}, 'HIT': {'VKW': 3.0, 'PPK': 0.0, 'HIT': 17.0, 'FFP': 0.0, 'FAI': 4.0, 'ERP': 0.0, 'GGI': 4.0, 'FKH': 8.0, 'DGC': 0.0}, 'FFP': {'VKW': 1.0, 'PPK': 7.0, 'HIT': 0.0, 'FFP': 19.0, 'FAI': 6.0, 'ERP': 7.0, 'GGI': 0.0, 'FKH': 6.0, 'DGC': 0.0}, 'FAI': {'VKW': 3.0, 'PPK': 0.0, 'HIT': 4.0, 'FFP': 6.0, 'FAI': 14.0, 'ERP': 0.0, 'GGI': 4.0, 'FKH': 6.0, 'DGC': 0.0}, 'ERP': {'VKW': 2.0, 'PPK': 7.0, 'HIT': 0.0, 'FFP': 7.0, 'FAI': 0.0, 'ERP': 17.0, 'GGI': 0.0, 'FKH': 2.0, 'DGC': 2.0}, 'GGI': {'VKW': 3.0, 'PPK': 0.0, 'HIT': 4.0, 'FFP': 0.0, 'FAI': 4.0, 'ERP': 0.0, 'GGI': 16.0, 'FKH': 0.0, 'DGC': 6.0}, 'FKH': {'VKW': 5.0, 'PPK': 5.0, 'HIT': 8.0, 'FFP': 6.0, 'FAI': 6.0, 'ERP': 2.0, 'GGI': 0.0, 'FKH': 19.0, 'DGC': 0.0}, 'DGC': {'VKW': 0.0, 'PPK': 0.0, 'HIT': 0.0, 'FFP': 0.0, 'FAI': 0.0, 'ERP': 2.0, 'GGI': 6.0, 'FKH': 0.0, 'DGC': 21.0}}"
      ]
     },
     "execution_count": 7,
     "metadata": {},
     "output_type": "execute_result"
    }
   ],
   "source": [
    "my_distance_database"
   ]
  }
 ],
 "metadata": {
  "kernelspec": {
   "display_name": "Python 2",
   "language": "python",
   "name": "python2"
  },
  "language_info": {
   "codemirror_mode": {
    "name": "ipython",
    "version": 2
   },
   "file_extension": ".py",
   "mimetype": "text/x-python",
   "name": "python",
   "nbconvert_exporter": "python",
   "pygments_lexer": "ipython2",
   "version": "2.7.6"
  }
 },
 "nbformat": 4,
 "nbformat_minor": 0
}
